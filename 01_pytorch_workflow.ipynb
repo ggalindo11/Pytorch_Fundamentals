{
 "cells": [
  {
   "cell_type": "markdown",
   "id": "425579c0",
   "metadata": {},
   "source": [
    "# PyTorch Workflow"
   ]
  },
  {
   "cell_type": "code",
   "execution_count": 1,
   "id": "6efb4e09",
   "metadata": {},
   "outputs": [
    {
     "data": {
      "text/plain": [
       "{1: 'data (prepare & load)',\n",
       " 2: 'build model',\n",
       " 3: 'fitting the model to data (training)',\n",
       " 4: 'making predictions & evaluating the model (inference)',\n",
       " 5: 'saving & loading the model',\n",
       " 6: 'putting it together'}"
      ]
     },
     "execution_count": 1,
     "metadata": {},
     "output_type": "execute_result"
    }
   ],
   "source": [
    "what_were_covering = {1: \"data (prepare & load)\",\n",
    "            2: \"build model\",\n",
    "            3: \"fitting the model to data (training)\",\n",
    "            4: \"making predictions & evaluating the model (inference)\",\n",
    "            5: \"saving & loading the model\",\n",
    "            6: \"putting it together\"}\n",
    "\n",
    "what_were_covering"
   ]
  },
  {
   "cell_type": "code",
   "execution_count": 2,
   "id": "806e924b",
   "metadata": {},
   "outputs": [
    {
     "data": {
      "text/plain": [
       "'2.7.0+cu128'"
      ]
     },
     "execution_count": 2,
     "metadata": {},
     "output_type": "execute_result"
    }
   ],
   "source": [
    "import torch\n",
    "from torch import nn # nn conatins all of PyTorch's \"building blocks\" for neural networks\n",
    "import matplotlib.pyplot as plt\n",
    "\n",
    "# Check PyTorch version\n",
    "torch.__version__"
   ]
  },
  {
   "cell_type": "markdown",
   "id": "3f02322e",
   "metadata": {},
   "source": [
    "## 1. Data (preparing & loading)\n",
    "\n",
    "Data can be almost anything in machine learning.\n",
    "* Excel spreadsheet\n",
    "* Videos\n",
    "* Audio\n",
    "* Text\n",
    "* etc ...\n",
    "\n",
    "Machine learning is a game of two parts:\n",
    "1. Get data into a numerical representation.\n",
    "2. Build a model to learn patterns in that numerical representation.\n",
    "\n",
    "To showcase this, create some *known* data using the linear regression formula to create a straight line with *known* **parameters**.\n",
    "* `Y = a + bX`, or `dependent (y) = intercept (bias) + slope (weight)*explanatory` \n"
   ]
  },
  {
   "cell_type": "code",
   "execution_count": 3,
   "id": "b078522b",
   "metadata": {},
   "outputs": [
    {
     "data": {
      "text/plain": [
       "(tensor([[0.0000],\n",
       "         [0.0200],\n",
       "         [0.0400],\n",
       "         [0.0600],\n",
       "         [0.0800],\n",
       "         [0.1000],\n",
       "         [0.1200],\n",
       "         [0.1400],\n",
       "         [0.1600],\n",
       "         [0.1800]]),\n",
       " tensor([[0.3000],\n",
       "         [0.3140],\n",
       "         [0.3280],\n",
       "         [0.3420],\n",
       "         [0.3560],\n",
       "         [0.3700],\n",
       "         [0.3840],\n",
       "         [0.3980],\n",
       "         [0.4120],\n",
       "         [0.4260]]))"
      ]
     },
     "execution_count": 3,
     "metadata": {},
     "output_type": "execute_result"
    }
   ],
   "source": [
    "# Create *known* parameters\n",
    "\n",
    "weight = 0.7 # b or \"slope\" of the line\n",
    "bias = 0.3 # a or \"intercept\" of the line\n",
    "\n",
    "# Create data\n",
    "start = 0\n",
    "end = 1\n",
    "step = 0.02\n",
    "X = torch.arange(start, end, step).unsqueeze(dim=1) # unsqueeze adds a dimension to the tensor\n",
    "y = bias + weight * X # y = a + bX\n",
    "\n",
    "X[:10], y[:10] # show first 10 values of X and y"
   ]
  },
  {
   "cell_type": "code",
   "execution_count": 4,
   "id": "2d90e082",
   "metadata": {},
   "outputs": [
    {
     "data": {
      "text/plain": [
       "(50, 50)"
      ]
     },
     "execution_count": 4,
     "metadata": {},
     "output_type": "execute_result"
    }
   ],
   "source": [
    "len(X), len(y) # check length of X and y"
   ]
  },
  {
   "cell_type": "markdown",
   "id": "e0128021",
   "metadata": {},
   "source": [
    "### Splitting data into training & test sets (very important!)\n",
    "\n",
    "Create a training & test set with the data"
   ]
  },
  {
   "cell_type": "code",
   "execution_count": 5,
   "id": "ff2d2521",
   "metadata": {},
   "outputs": [
    {
     "data": {
      "text/plain": [
       "(40, 40, 10, 10)"
      ]
     },
     "execution_count": 5,
     "metadata": {},
     "output_type": "execute_result"
    }
   ],
   "source": [
    "# Create a training & testing split\n",
    "train_split = int(0.8 * len(X)) # 80% of data for training\n",
    "X_train, y_train = X[:train_split], y[:train_split] # first 80% of data for training\n",
    "\n",
    "X_test, y_test = X[train_split:], y[train_split:] # last 20% of data for testing\n",
    "\n",
    "len(X_train), len(y_train), len(X_test), len(y_test) # check lengths of training and testing data"
   ]
  },
  {
   "cell_type": "markdown",
   "id": "3cbeebdf",
   "metadata": {},
   "source": [
    "**How could we better visualize our data? Visialize it!**"
   ]
  },
  {
   "cell_type": "code",
   "execution_count": 6,
   "id": "11a521a9",
   "metadata": {},
   "outputs": [],
   "source": [
    "def plot_predictions(train_data = X_train,\n",
    "                     train_labels = y_train,\n",
    "                     # Train on training data & predict on test data\n",
    "                     test_data = X_test,\n",
    "                     test_labels = y_test,\n",
    "                     predictions = None):\n",
    "    \"\"\"\n",
    "    Plots down the training data, test data, & and compares predictions \n",
    "    \"\"\"\n",
    "\n",
    "    plt.figure(figsize=(10, 7))\n",
    "\n",
    "    # Plot the training data in orange\n",
    "    plt.scatter(train_data, train_labels, c=\"orange\", s=4, label=\"Training data\")\n",
    "\n",
    "    # Plot testing data in purple\n",
    "    plt.scatter(test_data, test_labels, c=\"purple\", s=4, label=\"Testing data\")\n",
    "\n",
    "    # Are there predictions?\n",
    "    if predictions is not None:\n",
    "        # Plot predictions if they exist\n",
    "        plt.scatter(test_data, predictions, c=\"red\", s=4, label=\"Predictions\")\n",
    "\n",
    "    # Show the model's legend\n",
    "    plt.legend(prop={\"size\": 14})"
   ]
  },
  {
   "cell_type": "code",
   "execution_count": 17,
   "id": "d6776c37",
   "metadata": {},
   "outputs": [
    {
     "data": {
      "image/png": "[encoded data removed]",
      "text/plain": [
       "<Figure size 1000x700 with 1 Axes>"
      ]
     },
     "metadata": {},
     "output_type": "display_data"
    }
   ],
   "source": [
    "plot_predictions()"
   ]
  },
  {
   "cell_type": "markdown",
   "id": "2eac1e74",
   "metadata": {},
   "source": [
    "## 2. Build model\n",
    "\n",
    "First PyTorch model!\n",
    "\n",
    "What our model does:\n",
    "* Start with random values (weight & bias)\n",
    "* Look at training data & adjust the random values to better represent (get closer to) the ideal values (weight & bias used to create the data)\n",
    "\n",
    "The model does this through two main algorithms:\n",
    "1. Gradient descent\n",
    "2. Backpropagation"
   ]
  },
  {
   "cell_type": "code",
   "execution_count": 8,
   "id": "988d86a1",
   "metadata": {},
   "outputs": [],
   "source": [
    "from torch import nn\n",
    "\n",
    "# Create a linear regression model\n",
    "class LinearRegressionModel(nn.Module): # <- Almost everything in PyTorch inherits from nn.Module\n",
    "    def __init__(self):\n",
    "        super().__init__()\n",
    "        # Create random weight & bias parameters (refer to section 1.)\n",
    "        self.weight = nn.Parameter(torch.randn(1, # Start with random weight & adjust it to the ideal weight\n",
    "                                                requires_grad=True, # Is True by default; PyTorch will track the gradients of the parameter for use with torch.autograd & gradient descent\n",
    "                                                dtype=torch.float) )# PyTorch works in datatype torch.float32\n",
    "        \n",
    "        self.bias = nn.Parameter(torch.randn(1, # Start with random bias & adjust it to the ideal bias\n",
    "                                             requires_grad=True,\n",
    "                                             dtype=torch.float))\n",
    "        \n",
    "        # Forward method to define the computation in the model\n",
    "    def forward(self, x: torch.Tensor) -> torch.Tensor: # <- \"x\" is the input data\n",
    "        return self.weight*x + self.bias # Linear regression formula\n",
    "\n",
    "    \n"
   ]
  },
  {
   "cell_type": "markdown",
   "id": "63b52328",
   "metadata": {},
   "source": [
    "### PyTorch model building essentials\n",
    "\n",
    "* torch.nn - contains all of the buildings for computational graphs (a neural network can be considered a computational graph)\n",
    "* torch.nn.Parameter - what parameters should our model try and learn, often a PyTorch layer from torch.nn will se these for us\n",
    "* torch.nn.Module - the base class for all neural network modules, if you subclass it you should overwrite forward()\n",
    "* torch.optim - where the optimizers for in PyTorch exist to help with gradient descent\n",
    "* def forward() ` ALL nn.Module subclasses require you to overwrite forward(), this method defines what happens in the forward computation"
   ]
  },
  {
   "cell_type": "markdown",
   "id": "99e25e79",
   "metadata": {},
   "source": [
    "### Checking the contents of our PyTorch model\n",
    "\n",
    "We can check our model parameters or whats inside our model using `.parameters()`."
   ]
  },
  {
   "cell_type": "code",
   "execution_count": 9,
   "id": "b05aeb22",
   "metadata": {},
   "outputs": [
    {
     "data": {
      "text/plain": [
       "[Parameter containing:\n",
       " tensor([-2.0260], requires_grad=True),\n",
       " Parameter containing:\n",
       " tensor([-2.0655], requires_grad=True)]"
      ]
     },
     "execution_count": 9,
     "metadata": {},
     "output_type": "execute_result"
    }
   ],
   "source": [
    "# Create a random seed \n",
    "torch.manual_seed(1337)\n",
    "\n",
    "# Create an instance of the model (a subclass of nn.Module)\n",
    "model_0 = LinearRegressionModel()\n",
    "\n",
    "# Check the parameters\n",
    "list(model_0.parameters())"
   ]
  },
  {
   "cell_type": "code",
   "execution_count": 10,
   "id": "cd6369fd",
   "metadata": {},
   "outputs": [
    {
     "data": {
      "text/plain": [
       "OrderedDict([('weight', tensor([-2.0260])), ('bias', tensor([-2.0655]))])"
      ]
     },
     "execution_count": 10,
     "metadata": {},
     "output_type": "execute_result"
    }
   ],
   "source": [
    "# List named parameters\n",
    "model_0.state_dict()"
   ]
  },
  {
   "cell_type": "markdown",
   "id": "b84a9c29",
   "metadata": {},
   "source": [
    "### Making predictions using `torch.inference_mode()`\n",
    "\n",
    "To check our model's predictive power, let's see how well it predicts `y_test` based on `X_test`.\n",
    "\n",
    "When we pass data through our model, it's going to run it through the `forward()` method."
   ]
  },
  {
   "cell_type": "code",
   "execution_count": 11,
   "id": "06598a78",
   "metadata": {},
   "outputs": [
    {
     "data": {
      "text/plain": [
       "(tensor([[0.8000],\n",
       "         [0.8200],\n",
       "         [0.8400],\n",
       "         [0.8600],\n",
       "         [0.8800],\n",
       "         [0.9000],\n",
       "         [0.9200],\n",
       "         [0.9400],\n",
       "         [0.9600],\n",
       "         [0.9800]]),\n",
       " tensor([[0.8600],\n",
       "         [0.8740],\n",
       "         [0.8880],\n",
       "         [0.9020],\n",
       "         [0.9160],\n",
       "         [0.9300],\n",
       "         [0.9440],\n",
       "         [0.9580],\n",
       "         [0.9720],\n",
       "         [0.9860]]))"
      ]
     },
     "execution_count": 11,
     "metadata": {},
     "output_type": "execute_result"
    }
   ],
   "source": [
    "X_test, y_test #"
   ]
  },
  {
   "cell_type": "code",
   "execution_count": 12,
   "id": "feb364c6",
   "metadata": {},
   "outputs": [
    {
     "data": {
      "text/plain": [
       "tensor([[-3.6863],\n",
       "        [-3.7268],\n",
       "        [-3.7673],\n",
       "        [-3.8079],\n",
       "        [-3.8484],\n",
       "        [-3.8889],\n",
       "        [-3.9294],\n",
       "        [-3.9699],\n",
       "        [-4.0105],\n",
       "        [-4.0510]])"
      ]
     },
     "execution_count": 12,
     "metadata": {},
     "output_type": "execute_result"
    }
   ],
   "source": [
    "# Make predictions with model\n",
    "\n",
    "with torch.inference_mode(): # Inference mode is used for making predictions without tracking gradients\n",
    "    y_preds = model_0(X_test) # Make predictions on the test data\n",
    "\n",
    "# with torch.no_grad(): # Alternative to inference mode, but inference mode is preferred\n",
    "#     y_preds = model_0(X_test) # Make predictions on the test data\n",
    "\n",
    "y_preds"
   ]
  },
  {
   "cell_type": "code",
   "execution_count": 13,
   "id": "b88c0e0e",
   "metadata": {},
   "outputs": [
    {
     "data": {
      "text/plain": [
       "tensor([[0.8600],\n",
       "        [0.8740],\n",
       "        [0.8880],\n",
       "        [0.9020],\n",
       "        [0.9160],\n",
       "        [0.9300],\n",
       "        [0.9440],\n",
       "        [0.9580],\n",
       "        [0.9720],\n",
       "        [0.9860]])"
      ]
     },
     "execution_count": 13,
     "metadata": {},
     "output_type": "execute_result"
    }
   ],
   "source": [
    "y_test "
   ]
  },
  {
   "cell_type": "code",
   "execution_count": null,
   "id": "7dfab5cd",
   "metadata": {},
   "outputs": [
    {
     "data": {
      "image/png": "[encoded data removed]",
      "text/plain": [
       "<Figure size 1000x700 with 1 Axes>"
      ]
     },
     "metadata": {},
     "output_type": "display_data"
    }
   ],
   "source": [
    "plot_predictions(predictions=y_preds)\n",
    "# Ideal model will have pink dots on top of purple dots (test data)"
   ]
  },
  {
   "cell_type": "markdown",
   "id": "7eea10ba",
   "metadata": {},
   "source": [
    "**Ideally want to minimize distance between each pink & purple dot**\n",
    "* Can do so with Loss function to decrease \"distance\" between each coresponding data point to 0 (overlapping): https://docs.pytorch.org/docs/stable/nn.html#loss-functions\n",
    "* Can then optimize with optimizer: https://docs.pytorch.org/docs/stable/optim.html#module-torch.optim"
   ]
  },
  {
   "cell_type": "markdown",
   "id": "efecaf46",
   "metadata": {},
   "source": [
    "## 3. Train Model\n",
    "\n",
    "The whole idea of training is for a model to move from some *unknown* parameters (potentially random) to some *known* parameters. \n",
    "\n",
    "Or in other words poor representation to better representation.\n",
    "\n",
    "One way to measure how poor/wrong a models predictions are is to use a loss function.\n",
    "\n",
    "* Note: Loss function = Cost function = Criterion\n",
    "\n",
    "Things required to train:\n",
    "\n",
    "* **Loss function:** A function to measure how wrong your model's predictions are to the ideal outputs, lower is better.\n",
    "* **Optimizer:** Takes into account the loss of a model & adjusts the model's parameters (e.g. weight & bias) to improve the loss function.\n",
    "    * Inside the optimizer are 2 parameters:\n",
    "        * `params` - The model parameters you will optimize, e.g `params=model_0.parameters()`\n",
    "        * `lr` (learning rate) - A hyperparamter that defines how big/small the optimizer changes the parameters with each step (a small `lr` is a small change while a larger `lr` is a larger change)\n",
    "\n",
    "Specifically for PyTorch, we need:\n",
    "\n",
    "* A training loop\n",
    "* A testing loop"
   ]
  },
  {
   "cell_type": "code",
   "execution_count": 15,
   "id": "886e2e68",
   "metadata": {},
   "outputs": [
    {
     "data": {
      "text/plain": [
       "[Parameter containing:\n",
       " tensor([-2.0260], requires_grad=True),\n",
       " Parameter containing:\n",
       " tensor([-2.0655], requires_grad=True)]"
      ]
     },
     "execution_count": 15,
     "metadata": {},
     "output_type": "execute_result"
    }
   ],
   "source": [
    "list(model_0.parameters()) # Check the model parameters"
   ]
  },
  {
   "cell_type": "code",
   "execution_count": null,
   "id": "d52c7b05",
   "metadata": {},
   "outputs": [
    {
     "data": {
      "text/plain": [
       "OrderedDict([('weight', tensor([-2.0260])), ('bias', tensor([-2.0655]))])"
      ]
     },
     "execution_count": 16,
     "metadata": {},
     "output_type": "execute_result"
    }
   ],
   "source": [
    "# Checks out the models parameters (weight & bias determined by the model)\n",
    "model_0.state_dict()"
   ]
  },
  {
   "cell_type": "code",
   "execution_count": 27,
   "id": "186a8801",
   "metadata": {},
   "outputs": [],
   "source": [
    "# Set up a loss function, L1 loss in this case or Mean Absolute Error\n",
    "loss_fn = nn.L1Loss() # Measures how \"wrong\" our model's predictions are compared to the true labels (y_test)\n",
    "\n",
    "# Set up an optimizer, Stochastic Gradient Descent in this case \n",
    "optimizer = torch.optim.SGD(params=model_0.parameters(), # SGD randomly adjusts the parameters of the model to minimize the loss function\n",
    "                            lr=0.01) # lr is the learning rate, how much to adjust the parameters by decimal point (0.0001 is a small adjustment, 0.1 is a large adjustment)"
   ]
  },
  {
   "cell_type": "markdown",
   "id": "10abc347",
   "metadata": {},
   "source": [
    "**Q:** Which loss function & optimizer should I use?\n",
    "\n",
    "**A:** This is problem specific that is learned with experience, \n",
    "\n",
    "For a regression problem (like here), a loss function of `nn.L1Loss()` & and optimizer like `torch.optim.SGD()` will suffice.\n",
    "\n",
    "However, for classification problems such as classifying whether a given photo is a dog or cat, you would want to use a loss function such as `nn.BCELoss()` (Binary Cross Entropy Loss)."
   ]
  },
  {
   "cell_type": "markdown",
   "id": "8c4d4b7a",
   "metadata": {},
   "source": [
    "### Building a training loop (& a testing loop) in PyTorch\n",
    "\n",
    "A couple of things we need in a training loop:\n",
    "0. Loop through the data.\n",
    "1. Forward pass (this involved data moving through our models `forward()` functions) to make predictions on data - also called forward propagation.\n",
    "2. Calculate the loss (compare forward pass predictions to ground truth labels).\n",
    "3. Optimize zero grad.\n",
    "4. Loss backward- move backwards through the network to calculate the gradients of each of the parameters of our model with respect to the loss (**backpropagation**).\n",
    "5. Optimizer step - use the optimizer to adjust our model's parameters to try & improve the loss (**gradient descent**)."
   ]
  },
  {
   "cell_type": "code",
   "execution_count": null,
   "id": "172d0b8a",
   "metadata": {},
   "outputs": [],
   "source": [
    "# An epoch is one complete loop through the training data... (hyperparameter becasue we set it manually)\n",
    "epochs = 1 # Number of times to iterate through the training data\n",
    "\n",
    "'''\n",
    "Training loop:\n",
    "'''\n",
    "# 0. Loop through the data\n",
    "for epoch in range(epochs): # Pass data through the model for a number of epochs, e.g. epochs = 1000 means the model will see the data 1000 times\n",
    "    # Set model to training mode\n",
    "    model_0.train() # Sets all parameters that require gradients to true (used for training mode)\n",
    "\n",
    "    # 1. Forward pass (make predictions)\n",
    "    y_preds = model_0(X_train) # Make predictions on the training data\n",
    "\n",
    "    #2. Calculate the loss (how wrong the model's predictions are)\n",
    "    loss = loss_fn(y_preds, y_train) # Compare the model's predictions to the ideal values (y_train)\n",
    "\n",
    "    #3. Optimizer zero grad\n",
    "    optimizer.zero_grad()\n",
    "\n",
    "    #4. Perform backpropagation on the loss w/ respect to the model parameters\n",
    "    loss.backward()\n",
    "\n",
    "    #5. Step the optimizer (preform gradient descent)\n",
    "    optimizer.step() # By default how the optimizer changes will accumulate through the loop, so we need to zero them as in step #3. \n",
    "\n",
    "\n",
    "    '''\n",
    "    Testing loop:\n",
    "    '''\n",
    "    #model_0.eval() # Sets all parameters that require gradients to false (used for inference mode)"
   ]
  }
 ],
 "metadata": {
  "kernelspec": {
   "display_name": ".venv",
   "language": "python",
   "name": "python3"
  },
  "language_info": {
   "codemirror_mode": {
    "name": "ipython",
    "version": 3
   },
   "file_extension": ".py",
   "mimetype": "text/x-python",
   "name": "python",
   "nbconvert_exporter": "python",
   "pygments_lexer": "ipython3",
   "version": "3.12.0"
  }
 },
 "nbformat": 4,
 "nbformat_minor": 5
}
