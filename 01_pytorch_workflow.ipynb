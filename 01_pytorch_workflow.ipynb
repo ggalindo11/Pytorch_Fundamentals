{
 "cells": [
  {
   "cell_type": "markdown",
   "id": "425579c0",
   "metadata": {},
   "source": [
    "# PyTorch Workflow"
   ]
  },
  {
   "cell_type": "code",
   "execution_count": 2,
   "id": "6efb4e09",
   "metadata": {},
   "outputs": [
    {
     "data": {
      "text/plain": [
       "{1: 'data (prepare & load)',\n",
       " 2: 'build model',\n",
       " 3: 'fitting the model to data (training)',\n",
       " 4: 'making predictions & evaluating the model (inference)',\n",
       " 5: 'saving & loading the model',\n",
       " 6: 'putting it together'}"
      ]
     },
     "execution_count": 2,
     "metadata": {},
     "output_type": "execute_result"
    }
   ],
   "source": [
    "what_were_covering = {1: \"data (prepare & load)\",\n",
    "            2: \"build model\",\n",
    "            3: \"fitting the model to data (training)\",\n",
    "            4: \"making predictions & evaluating the model (inference)\",\n",
    "            5: \"saving & loading the model\",\n",
    "            6: \"putting it together\"}\n",
    "\n",
    "what_were_covering"
   ]
  },
  {
   "cell_type": "code",
   "execution_count": 3,
   "id": "806e924b",
   "metadata": {},
   "outputs": [
    {
     "data": {
      "text/plain": [
       "'2.7.0+cu128'"
      ]
     },
     "execution_count": 3,
     "metadata": {},
     "output_type": "execute_result"
    }
   ],
   "source": [
    "import torch\n",
    "from torch import nn # nn conatins all of PyTorch's \"building blocks\" for neural networks\n",
    "import matplotlib.pyplot as plt\n",
    "\n",
    "# Check PyTorch version\n",
    "torch.__version__"
   ]
  },
  {
   "cell_type": "markdown",
   "id": "3f02322e",
   "metadata": {},
   "source": [
    "## 1. Data (preparing & loading)\n",
    "\n",
    "Data can be almost anything in machine learning.\n",
    "* Excel spreadsheet\n",
    "* Videos\n",
    "* Audio\n",
    "* Text\n",
    "* etc ...\n",
    "\n",
    "Machine learning is a game of two parts:\n",
    "1. Get data into a numerical representation.\n",
    "2. Build a model to learn patterns in that numerical representation.\n",
    "\n",
    "To showcase this, create some *known* data using the linear regression formula to create a straight line with *known* **parameters**.\n",
    "* `Y = a + bX`, or `dependent (y) = intercept (bias) + slope (weight)*explanatory` \n"
   ]
  },
  {
   "cell_type": "code",
   "execution_count": 10,
   "id": "b078522b",
   "metadata": {},
   "outputs": [
    {
     "data": {
      "text/plain": [
       "(tensor([[0.0000],\n",
       "         [0.0200],\n",
       "         [0.0400],\n",
       "         [0.0600],\n",
       "         [0.0800],\n",
       "         [0.1000],\n",
       "         [0.1200],\n",
       "         [0.1400],\n",
       "         [0.1600],\n",
       "         [0.1800]]),\n",
       " tensor([[0.3000],\n",
       "         [0.3140],\n",
       "         [0.3280],\n",
       "         [0.3420],\n",
       "         [0.3560],\n",
       "         [0.3700],\n",
       "         [0.3840],\n",
       "         [0.3980],\n",
       "         [0.4120],\n",
       "         [0.4260]]))"
      ]
     },
     "execution_count": 10,
     "metadata": {},
     "output_type": "execute_result"
    }
   ],
   "source": [
    "# Create *known* parameters\n",
    "\n",
    "weight = 0.7 # b or \"slope\" of the line\n",
    "bias = 0.3 # a or \"intercept\" of the line\n",
    "\n",
    "# Create data\n",
    "start = 0\n",
    "end = 1\n",
    "step = 0.02\n",
    "X = torch.arange(start, end, step).unsqueeze(dim=1) # unsqueeze adds a dimension to the tensor\n",
    "y = bias + weight * X # y = a + bX\n",
    "\n",
    "X[:10], y[:10] # show first 10 values of X and y"
   ]
  },
  {
   "cell_type": "code",
   "execution_count": 8,
   "id": "2d90e082",
   "metadata": {},
   "outputs": [
    {
     "data": {
      "text/plain": [
       "(50, 50)"
      ]
     },
     "execution_count": 8,
     "metadata": {},
     "output_type": "execute_result"
    }
   ],
   "source": [
    "len(X), len(y) # check length of X and y"
   ]
  },
  {
   "cell_type": "markdown",
   "id": "e0128021",
   "metadata": {},
   "source": [
    "### Splitting data into training & test sets (very important!)\n",
    "\n",
    "Create a training & test set with the data"
   ]
  },
  {
   "cell_type": "code",
   "execution_count": 11,
   "id": "ff2d2521",
   "metadata": {},
   "outputs": [
    {
     "data": {
      "text/plain": [
       "(40, 40, 10, 10)"
      ]
     },
     "execution_count": 11,
     "metadata": {},
     "output_type": "execute_result"
    }
   ],
   "source": [
    "# Create a training & testing split\n",
    "train_split = int(0.8 * len(X)) # 80% of data for training\n",
    "X_train, y_train = X[:train_split], y[:train_split] # first 80% of data for training\n",
    "\n",
    "X_test, y_test = X[train_split:], y[train_split:] # last 20% of data for testing\n",
    "\n",
    "len(X_train), len(y_train), len(X_test), len(y_test) # check lengths of training and testing data"
   ]
  },
  {
   "cell_type": "markdown",
   "id": "3cbeebdf",
   "metadata": {},
   "source": [
    "**How could we better visualize our data? Visialize it!**"
   ]
  },
  {
   "cell_type": "code",
   "execution_count": 18,
   "id": "11a521a9",
   "metadata": {},
   "outputs": [],
   "source": [
    "def plot_predictions(train_data = X_train,\n",
    "                     train_labels = y_train,\n",
    "                     # Train on training data & predict on test data\n",
    "                     test_data = X_test,\n",
    "                     test_labels = y_test,\n",
    "                     predictions = None):\n",
    "    \"\"\"\n",
    "    Plots down the training data, test data, & and compares predictions \n",
    "    \"\"\"\n",
    "\n",
    "    plt.figure(figsize=(10, 7))\n",
    "\n",
    "    # Plot the training data in orange\n",
    "    plt.scatter(train_data, train_labels, c=\"orange\", s=4, label=\"Training data\")\n",
    "\n",
    "    # Plot testing data in purple\n",
    "    plt.scatter(test_data, test_labels, c=\"purple\", s=4, label=\"Testing data\")\n",
    "\n",
    "    # Are there predictions?\n",
    "    if predictions is not None:\n",
    "        # Plot predictions if they exist\n",
    "        plt.scatter(test_data, predictions, c=\"red\", s=\"4\", label=\"Predictions\")\n",
    "\n",
    "    # Show the model's legend\n",
    "    plt.legend(prop={\"size\": 14})"
   ]
  },
  {
   "cell_type": "code",
   "execution_count": 19,
   "id": "d6776c37",
   "metadata": {},
   "outputs": [
    {
     "data": {
      "image/png": "[encoded data removed]",
      "text/plain": [
       "<Figure size 1000x700 with 1 Axes>"
      ]
     },
     "metadata": {},
     "output_type": "display_data"
    }
   ],
   "source": [
    "plot_predictions()"
   ]
  }
 ],
 "metadata": {
  "kernelspec": {
   "display_name": ".venv",
   "language": "python",
   "name": "python3"
  },
  "language_info": {
   "codemirror_mode": {
    "name": "ipython",
    "version": 3
   },
   "file_extension": ".py",
   "mimetype": "text/x-python",
   "name": "python",
   "nbconvert_exporter": "python",
   "pygments_lexer": "ipython3",
   "version": "3.12.0"
  }
 },
 "nbformat": 4,
 "nbformat_minor": 5
}
