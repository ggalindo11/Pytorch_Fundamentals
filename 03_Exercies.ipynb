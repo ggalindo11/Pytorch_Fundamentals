{
 "cells": [
  {
   "cell_type": "markdown",
   "id": "34d1d1ae",
   "metadata": {},
   "source": [
    "# 03. PyTorch Computer Vision Exercises"
   ]
  },
  {
   "cell_type": "markdown",
   "id": "37d842ee",
   "metadata": {},
   "source": [
    "## 1. What are 3 areas in industry where computer vision is currently being used?"
   ]
  },
  {
   "cell_type": "code",
   "execution_count": null,
   "id": "8bb2d456",
   "metadata": {
    "vscode": {
     "languageId": "plaintext"
    }
   },
   "outputs": [],
   "source": []
  },
  {
   "cell_type": "markdown",
   "id": "de3734dd",
   "metadata": {},
   "source": [
    "## 2. Search \"what is overfitting in machine learning\" and write down a sentence about what you find."
   ]
  },
  {
   "cell_type": "markdown",
   "id": "855715c4",
   "metadata": {},
   "source": [
    "## 3. Search \"ways to prevent overfitting in machine learning\", write down 3 of the things you find and a sentence about each. **Note:** there are lots of these, so don't worry too much about all of them, just pick 3 and start with those."
   ]
  },
  {
   "cell_type": "markdown",
   "id": "9470f928",
   "metadata": {},
   "source": [
    "## 4. Spend 20-minutes reading and clicking through the CNN Explainer website.\n",
    "\n",
    "### * Upload your own example image using the \"upload\" button and see what happens in each layer of a CNN as your image passes through it.\n"
   ]
  },
  {
   "cell_type": "markdown",
   "id": "79061909",
   "metadata": {},
   "source": [
    "## 5. Load the `torchvision.datasets.MNIST()` train and test datasets."
   ]
  },
  {
   "cell_type": "markdown",
   "id": "b3d4c571",
   "metadata": {},
   "source": [
    "## 6. Visualize at least 5 different samples of the MNIST training dataset."
   ]
  },
  {
   "cell_type": "markdown",
   "id": "66757560",
   "metadata": {},
   "source": [
    "## 7. Turn the MNIST train and test datasets into dataloaders using `torch.utils.data.DataLoader`, set the `batch_size=32`."
   ]
  },
  {
   "cell_type": "markdown",
   "id": "332fc92e",
   "metadata": {},
   "source": [
    "## 8. Recreate `model_2` used in this notebook (the same model from the CNN Explainer website, also known as TinyVGG) capable of fitting on the MNIST dataset."
   ]
  },
  {
   "cell_type": "markdown",
   "id": "c1e20793",
   "metadata": {},
   "source": [
    "## 9. Train the model you built in exercise 8. on CPU and GPU and see how long it takes on each."
   ]
  },
  {
   "cell_type": "markdown",
   "id": "06675936",
   "metadata": {},
   "source": [
    "## 10. Make predictions using your trained model and visualize at least 5 of them comparing the prediction to the target label."
   ]
  },
  {
   "cell_type": "markdown",
   "id": "1cfe9bec",
   "metadata": {},
   "source": [
    "## 11. Plot a confusion matrix comparing your model's predictions to the truth labels."
   ]
  },
  {
   "cell_type": "markdown",
   "id": "4cdffcfa",
   "metadata": {},
   "source": [
    "## 12. Create a random tensor of shape `[1, 3, 64, 64]` and pass it through a `nn.Conv2d()` layer with various hyperparameter settings (these can be any settings you choose), what do you notice if the `kernel_size` parameter goes up and down?"
   ]
  },
  {
   "cell_type": "markdown",
   "id": "f0631c02",
   "metadata": {},
   "source": [
    "## 13. Use a model similar to the trained `model_2` from this notebook to make predictions on the test `torchvision.datasets.FashionMNIST` dataset.\n",
    "\n",
    "### * Then plot some predictions where the model was wrong alongside what the label of the image should've been.\n",
    "### *After visualizing these predictions do you think it's more of a modelling error or a data error?\n",
    "### *As in, could the model do better or are the labels of the data too close to each other (e.g. a \"Shirt\" label is too close to \"T-shirt/top\")?\n"
   ]
  }
 ],
 "metadata": {
  "language_info": {
   "name": "python"
  }
 },
 "nbformat": 4,
 "nbformat_minor": 5
}
