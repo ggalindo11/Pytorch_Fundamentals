{
 "cells": [
  {
   "cell_type": "markdown",
   "id": "bd77b845",
   "metadata": {},
   "source": [
    "# EXERCISES & EXTRA-CURRICULUM"
   ]
  },
  {
   "cell_type": "markdown",
   "id": "c7112b06",
   "metadata": {},
   "source": [
    "## Create a random tensor with shape (7, 7)."
   ]
  },
  {
   "cell_type": "code",
   "execution_count": null,
   "id": "fbc7d296",
   "metadata": {},
   "outputs": [
    {
     "data": {
      "text/plain": [
       "(tensor([[0.6194, 0.3328, 0.2031, 0.1166, 0.6806, 0.8945, 0.3589],\n",
       "         [0.3589, 0.7869, 0.3559, 0.4835, 0.7552, 0.9075, 0.0115],\n",
       "         [0.9720, 0.6000, 0.3438, 0.7700, 0.5022, 0.5358, 0.7880],\n",
       "         [0.1588, 0.0860, 0.9809, 0.4813, 0.9212, 0.3789, 0.8227],\n",
       "         [0.6995, 0.3346, 0.2459, 0.0436, 0.5606, 0.5592, 0.3525],\n",
       "         [0.4972, 0.3134, 0.9224, 0.2705, 0.9129, 0.1048, 0.7756],\n",
       "         [0.2237, 0.4968, 0.5769, 0.4101, 0.1658, 0.8544, 0.6586]]),\n",
       " torch.Size([7, 7]))"
      ]
     },
     "execution_count": 3,
     "metadata": {},
     "output_type": "execute_result"
    }
   ],
   "source": [
    "import torch\n",
    "\n",
    "random_tensor = torch.rand(7, 7) # Create a random tensor of shape (7, 7)\n",
    "random_tensor, random_tensor.shape # Display the tensor and its shape"
   ]
  },
  {
   "cell_type": "markdown",
   "id": "2745ef59",
   "metadata": {},
   "source": [
    "## Perform a matrix multiplication on the tensor from 2 with another random tensor with shape (1, 7) (hint: you may have to transpose the second tensor).\n",
    "\n",
    "Cant matmul `(7, 7) @ (1, 7)` because inner dimensions dont match. Must first transpose either to make inner dimensions match."
   ]
  },
  {
   "cell_type": "code",
   "execution_count": 26,
   "id": "db6513af",
   "metadata": {},
   "outputs": [
    {
     "data": {
      "text/plain": [
       "(tensor([[1.2741],\n",
       "         [1.4061],\n",
       "         [2.0522],\n",
       "         [1.8029],\n",
       "         [1.4137],\n",
       "         [1.7786],\n",
       "         [1.0244]]),\n",
       " torch.Size([7, 1]))"
      ]
     },
     "execution_count": 26,
     "metadata": {},
     "output_type": "execute_result"
    }
   ],
   "source": [
    "random_tensor2 = torch.rand(1, 7)\n",
    "random_tensor2, random_tensor2.shape # Create another random tensor of shape (1, 7) and display it\n",
    "\n",
    "random_tensor2_transposed = random_tensor2.transpose(0, 1) # Transpose the second tensor to shape (7, 1)\n",
    "\n",
    "t1t2 = torch.matmul(random_tensor, random_tensor2_transposed) # Perform matrix multiplication between the two tensors\n",
    "\n",
    "t1t2, t1t2.shape # Display the result of the multiplication and its shape"
   ]
  },
  {
   "cell_type": "markdown",
   "id": "7c04a615",
   "metadata": {},
   "source": [
    "## Set the random seed to 0 and do exercises 2 & 3 over again."
   ]
  },
  {
   "cell_type": "code",
   "execution_count": 17,
   "id": "10e4e99e",
   "metadata": {},
   "outputs": [
    {
     "data": {
      "text/plain": [
       "(tensor([[0.4963, 0.7682, 0.0885, 0.1320, 0.3074, 0.6341, 0.4901],\n",
       "         [0.8964, 0.4556, 0.6323, 0.3489, 0.4017, 0.0223, 0.1689],\n",
       "         [0.2939, 0.5185, 0.6977, 0.8000, 0.1610, 0.2823, 0.6816],\n",
       "         [0.9152, 0.3971, 0.8742, 0.4194, 0.5529, 0.9527, 0.0362],\n",
       "         [0.1852, 0.3734, 0.3051, 0.9320, 0.1759, 0.2698, 0.1507],\n",
       "         [0.0317, 0.2081, 0.9298, 0.7231, 0.7423, 0.5263, 0.2437],\n",
       "         [0.5846, 0.0332, 0.1387, 0.2422, 0.8155, 0.7932, 0.2783]]),\n",
       " torch.Size([7, 7]))"
      ]
     },
     "execution_count": 17,
     "metadata": {},
     "output_type": "execute_result"
    }
   ],
   "source": [
    "import torch\n",
    "\n",
    "seed = 0 # Set a seed for reproducibility\n",
    "\n",
    "torch.manual_seed(seed) # Apply the seed to PyTorch's random number generator\n",
    "random_tensor = torch.rand(7, 7) # Create a new random tensor of shape (7, 7)\n",
    "random_tensor, random_tensor.shape # Display the new tensor and its shape\n",
    "\n"
   ]
  },
  {
   "cell_type": "code",
   "execution_count": 20,
   "id": "5d70cf21",
   "metadata": {},
   "outputs": [
    {
     "data": {
      "text/plain": [
       "(tensor([[0.4963, 0.7682, 0.0885, 0.1320, 0.3074, 0.6341, 0.4901]]),\n",
       " torch.Size([1, 7]))"
      ]
     },
     "execution_count": 20,
     "metadata": {},
     "output_type": "execute_result"
    }
   ],
   "source": [
    "torch.manual_seed(seed) # Reset the seed for reproducibility\n",
    "random_tensor2 = torch.rand(1, 7) # Create another random tensor of shape (7, 7)\n",
    "random_tensor2, random_tensor2.shape # Display the second tensor and its shape"
   ]
  },
  {
   "cell_type": "code",
   "execution_count": 22,
   "id": "fad73a17",
   "metadata": {},
   "outputs": [
    {
     "data": {
      "text/plain": [
       "(tensor([[0.4963],\n",
       "         [0.7682],\n",
       "         [0.0885],\n",
       "         [0.1320],\n",
       "         [0.3074],\n",
       "         [0.6341],\n",
       "         [0.4901]]),\n",
       " torch.Size([7, 1]))"
      ]
     },
     "execution_count": 22,
     "metadata": {},
     "output_type": "execute_result"
    }
   ],
   "source": [
    "random_tensor2_transposed = random_tensor2.transpose(0, 1) # Transpose the second tensor to shape (7, 1)\n",
    "random_tensor2_transposed, random_tensor2_transposed.shape # Display the transposed tensor and its shape"
   ]
  },
  {
   "cell_type": "code",
   "execution_count": 31,
   "id": "adf44bbd",
   "metadata": {},
   "outputs": [
    {
     "data": {
      "text/plain": [
       "(tensor([[1.2741],\n",
       "         [1.4061],\n",
       "         [2.0522],\n",
       "         [1.8029],\n",
       "         [1.4137],\n",
       "         [1.7786],\n",
       "         [1.0244]]),\n",
       " torch.Size([7, 1]),\n",
       " device(type='cpu'))"
      ]
     },
     "execution_count": 31,
     "metadata": {},
     "output_type": "execute_result"
    }
   ],
   "source": [
    "T1T1 = random_tensor @ random_tensor2_transposed # Perform matrix multiplication between the first tensor and the transposed second tensor\n",
    "T1T1, T1T1.shape, T1T1.device # Display the result of the multiplication and its shape"
   ]
  },
  {
   "cell_type": "markdown",
   "id": "8590b5b8",
   "metadata": {},
   "source": [
    "## Speaking of random seeds, we saw how to set it with torch.manual_seed() but is there a GPU equivalent? (hint: you'll need to look into the documentation for torch.cuda for this one). If there is, set the GPU random seed to 1234."
   ]
  },
  {
   "cell_type": "code",
   "execution_count": null,
   "id": "0cbd7b98",
   "metadata": {},
   "outputs": [],
   "source": [
    "import torch\n",
    "\n",
    "random_gpu_seed = 1234 # Set a seed for reproducibility on GPU\n",
    "torch.cuda.manual_seed(random_gpu_seed) # Apply the seed to PyTorch's GPU random number generator"
   ]
  },
  {
   "cell_type": "markdown",
   "id": "c28ff87e",
   "metadata": {},
   "source": [
    "## Create two random tensors of shape (2, 3) and send them both to the GPU (you'll need access to a GPU for this). Set torch.manual_seed(1234) when creating the tensors (this doesn't have to be the GPU random seed)."
   ]
  },
  {
   "cell_type": "code",
   "execution_count": 61,
   "id": "73d44892",
   "metadata": {},
   "outputs": [
    {
     "name": "stdout",
     "output_type": "stream",
     "text": [
      "tensor_A: \n",
      "tensor([[0.1272, 0.8167, 0.5440],\n",
      "        [0.6601, 0.2721, 0.9737]], device='cuda:0') \n",
      "tensor_B: \n",
      "tensor([[0.6208, 0.0276, 0.3255],\n",
      "        [0.1114, 0.6812, 0.3608]], device='cuda:0')\n",
      "\n",
      "tensor_A device: torch.Size([2, 3]) \n",
      "tensor_B device: torch.Size([2, 3])\n"
     ]
    }
   ],
   "source": [
    "# Create 2 random tensors of same shape\n",
    "\n",
    "# Set manual_seed to 1234 for reproducibility\n",
    "torch.manual_seed(1234)\n",
    "tensor_A = torch.rand(2, 3, device='cuda')  # Create a random tensor on GPU\n",
    "tensor_B = torch.rand(2, 3, device='cuda')  # Create another random tensor on GPU\n",
    "\n",
    "# Display the tensors and devices\n",
    "print(f'tensor_A: \\n{tensor_A}', \n",
    "      f'\\ntensor_B: \\n{tensor_B}')  \n",
    "\n",
    "# Print tenosr shape\n",
    "print(f'\\ntensor_A device: {tensor_A.shape}',\n",
    "      f'\\ntensor_B device: {tensor_B.shape}')"
   ]
  },
  {
   "cell_type": "markdown",
   "id": "7681d846",
   "metadata": {},
   "source": [
    "## Perform a matrix multiplication on the tensors you created in 6 (again, you may have to adjust the shapes of one of the tensors)."
   ]
  },
  {
   "cell_type": "code",
   "execution_count": 66,
   "id": "cd8db058",
   "metadata": {},
   "outputs": [
    {
     "data": {
      "text/plain": [
       "(tensor([[0.1525, 0.4531, 0.2796],\n",
       "         [0.5374, 0.2079, 0.3640],\n",
       "         [0.4462, 0.6783, 0.5284]], device='cuda:0'),\n",
       " torch.Size([3, 3]))"
      ]
     },
     "execution_count": 66,
     "metadata": {},
     "output_type": "execute_result"
    }
   ],
   "source": [
    "import torch\n",
    "\n",
    "tensor_A_T = tensor_A.transpose(0, 1) # Transpose tensor_A to shape (3, 2)\n",
    "\n",
    "AB = torch.matmul(tensor_A_T, tensor_B)\n",
    "AB, AB.shape"
   ]
  },
  {
   "cell_type": "markdown",
   "id": "a866271f",
   "metadata": {},
   "source": [
    "## Find the maximum and minimum values of the output of 7."
   ]
  },
  {
   "cell_type": "code",
   "execution_count": null,
   "id": "11d4fa5a",
   "metadata": {},
   "outputs": [
    {
     "name": "stdout",
     "output_type": "stream",
     "text": [
      "AB max: 0.6782569885253906 \n",
      "AB min: 0.152530238032341\n"
     ]
    }
   ],
   "source": [
    "# .max() and .min() methods to find the maximum and minimum values in the given tensor\n",
    "print(f'AB max: {AB.max()}',\n",
    "      f'\\nAB min: {AB.min()}',)"
   ]
  },
  {
   "cell_type": "markdown",
   "id": "06e0f7e4",
   "metadata": {},
   "source": [
    "## Find the maximum and minimum index values of the output of 7."
   ]
  },
  {
   "cell_type": "code",
   "execution_count": 74,
   "id": "32eb6027",
   "metadata": {},
   "outputs": [
    {
     "name": "stdout",
     "output_type": "stream",
     "text": [
      "AB max Index: 7 \n",
      "AB min: 0\n"
     ]
    }
   ],
   "source": [
    "# argmax() and argmin() methods to find the indices of the maximum and minimum values in the tensor\n",
    "print(f'AB max Index: {AB.argmax()}',\n",
    "      f'\\nAB min: {AB.argmin()}',)"
   ]
  },
  {
   "cell_type": "markdown",
   "id": "8015cb35",
   "metadata": {},
   "source": [
    "## Make a random tensor with shape (1, 1, 1, 10) and then create a new tensor with all the 1 dimensions removed to be left with a tensor of shape (10). Set the seed to 7 when you create it and print out the first tensor and it's shape as well as the second tensor and it's shape."
   ]
  },
  {
   "cell_type": "code",
   "execution_count": 88,
   "id": "cdd878f1",
   "metadata": {},
   "outputs": [
    {
     "data": {
      "text/plain": [
       "(tensor([[[[0.5349, 0.1988, 0.6592, 0.6569, 0.2328, 0.4251, 0.2071, 0.6297,\n",
       "            0.3653, 0.8513]]]]),\n",
       " torch.Size([1, 1, 1, 10]))"
      ]
     },
     "execution_count": 88,
     "metadata": {},
     "output_type": "execute_result"
    }
   ],
   "source": [
    "# set a manual seed for reproducibility\n",
    "torch.manual_seed(7)\n",
    "\n",
    "tensor = torch.rand(1, 1, 1, 10)\n",
    "tensor, tensor.shape "
   ]
  },
  {
   "cell_type": "code",
   "execution_count": 87,
   "id": "eec3bba7",
   "metadata": {},
   "outputs": [
    {
     "data": {
      "text/plain": [
       "(tensor([0.5349, 0.1988, 0.6592, 0.6569, 0.2328, 0.4251, 0.2071, 0.6297, 0.3653,\n",
       "         0.8513]),\n",
       " torch.Size([10]))"
      ]
     },
     "execution_count": 87,
     "metadata": {},
     "output_type": "execute_result"
    }
   ],
   "source": [
    "# Remove dimensions of size 1 from the tensor\n",
    "new_tensor = tensor.squeeze() \n",
    "\n",
    "# Display the new tensor and its shape\n",
    "new_tensor, new_tensor.shape "
   ]
  },
  {
   "cell_type": "markdown",
   "id": "808e8eb8",
   "metadata": {},
   "source": [
    "## RANDOM TENSOR PRACTICE"
   ]
  },
  {
   "cell_type": "code",
   "execution_count": 94,
   "id": "c2b1cd8f",
   "metadata": {},
   "outputs": [
    {
     "data": {
      "text/plain": [
       "(tensor([[1, 2],\n",
       "         [3, 4]]),\n",
       " torch.Size([2, 2]),\n",
       " torch.int64)"
      ]
     },
     "execution_count": 94,
     "metadata": {},
     "output_type": "execute_result"
    }
   ],
   "source": [
    "import torch\n",
    "import numpy as np\n",
    "\n",
    "data = [[1, 2], [3, 4]]\n",
    "x_data = torch.tensor(data)  # Convert a list to a PyTorch tensor\n",
    "\n",
    "x_data, x_data.shape, x_data.dtype  # Display the tensor and its shape"
   ]
  },
  {
   "cell_type": "code",
   "execution_count": 101,
   "id": "ea33f1c1",
   "metadata": {},
   "outputs": [
    {
     "name": "stdout",
     "output_type": "stream",
     "text": [
      "x_ones: \n",
      "tensor([[1, 1],\n",
      "        [1, 1]])\n",
      "x_rand: \n",
      "tensor([[0.9699, 0.1078],\n",
      "        [0.8829, 0.4132]])\n"
     ]
    }
   ],
   "source": [
    "x_ones = torch.ones_like(x_data)  # Create a tensor of ones with the same shape as x_data\n",
    "print(f'x_ones: \\n{x_ones}')\n",
    "\n",
    "x_rand = torch.rand_like(x_data,dtype=torch.float32 ) # Create a tensor of random values with the same shape as x_data\n",
    "print(f'x_rand: \\n{x_rand}')"
   ]
  },
  {
   "cell_type": "code",
   "execution_count": 122,
   "id": "02332414",
   "metadata": {},
   "outputs": [
    {
     "name": "stdout",
     "output_type": "stream",
     "text": [
      "Random Tensor: \n",
      " tensor([[0.5643, 0.3347, 0.0358],\n",
      "        [0.1494, 0.5271, 0.4732]]) \n",
      "\n",
      "Ones Tensor: \n",
      " tensor([[1., 1., 1.],\n",
      "        [1., 1., 1.]]) \n",
      "\n",
      "Zeros Tensor: \n",
      " tensor([[0., 0., 0.],\n",
      "        [0., 0., 0.]])\n"
     ]
    }
   ],
   "source": [
    "shape = (2,3)\n",
    "rand_tensor = torch.rand(shape)\n",
    "ones_tensor = torch.ones(shape)\n",
    "zeros_tensor = torch.zeros(shape)\n",
    "\n",
    "print(f\"Random Tensor: \\n {rand_tensor} \\n\")\n",
    "print(f\"Ones Tensor: \\n {ones_tensor} \\n\")\n",
    "print(f\"Zeros Tensor: \\n {zeros_tensor}\")"
   ]
  }
 ],
 "metadata": {
  "kernelspec": {
   "display_name": ".venv",
   "language": "python",
   "name": "python3"
  },
  "language_info": {
   "codemirror_mode": {
    "name": "ipython",
    "version": 3
   },
   "file_extension": ".py",
   "mimetype": "text/x-python",
   "name": "python",
   "nbconvert_exporter": "python",
   "pygments_lexer": "ipython3",
   "version": "3.12.0"
  }
 },
 "nbformat": 4,
 "nbformat_minor": 5
}
