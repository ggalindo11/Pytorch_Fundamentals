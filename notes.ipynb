{
 "cells": [
  {
   "cell_type": "markdown",
   "id": "cd08e5ff",
   "metadata": {},
   "source": [
    "# PyTorch for Deep Learning & Machine Learning Notes!"
   ]
  },
  {
   "cell_type": "markdown",
   "id": "039ab8db",
   "metadata": {},
   "source": [
    "### Why use machine learning (or deep learning)?\n"
   ]
  },
  {
   "cell_type": "markdown",
   "id": "f6815308",
   "metadata": {},
   "source": [
    "\n",
    "* Manual coding can be cumberson, machine learning can automate this.\n",
    "* Machine learing can automate complex processes with many steps that would be difficult for traditional programming.\n",
    "    * The more \"rules\" there are to a problem, the more attractive machine learning is.\n",
    "* Can adapt to continuously changing environemtns easily,  \n",
    "* ***Discovering insights within large collections of data*** (AI IS FLOURISHING)"
   ]
  },
  {
   "cell_type": "markdown",
   "id": "173295e6",
   "metadata": {},
   "source": [
    "### When not to use machine learning?\n"
   ]
  },
  {
   "cell_type": "markdown",
   "id": "88a37fa2",
   "metadata": {},
   "source": [
    "\n",
    "* Googles #1 rule for machine learning, \"if you can build a simple rule-based system that doesnt require machine learning, do that\".\n",
    "    * A short and simple code should be priortized for menial tasks, not complex machine learning.    \n",
    "* When you need explainability, deep learning models are uninterpretable by humans.\n",
    "* when errors are unacceptable, machine learning systems are unpredictable and not deterministic.\n",
    "* when you dont have much data, machine learning models typically require large amounts of data."
   ]
  },
  {
   "cell_type": "markdown",
   "id": "737a9cdb",
   "metadata": {},
   "source": [
    "### When to use machine learning.\n"
   ]
  },
  {
   "cell_type": "markdown",
   "id": "927d5769",
   "metadata": {},
   "source": [
    "\n",
    "* When you have large amounts of STRUCTURED data. (rows x collumns) i.e algorithms such as XGBoost\n",
    "* Some algorithms include\n",
    "    * Random forest.\n",
    "    * gradient boosted machine.\n",
    "    * naive bayes.\n",
    "    * nearest neighbor.\n",
    "    * support vector machine.\n",
    "    * many more."
   ]
  },
  {
   "cell_type": "markdown",
   "id": "9068ed21",
   "metadata": {},
   "source": [
    "### When to use deep learning.\n"
   ]
  },
  {
   "cell_type": "markdown",
   "id": "158b8847",
   "metadata": {},
   "source": [
    "\n",
    "* When you have large amounts of UNSTRUCTURED data (natural languages, images data) i.e neural network algorithms\n",
    "* Some algorithms include.\n",
    "    * neural networks\n",
    "    * fully connected neural networks\n",
    "    * convulutional neural network.\n",
    "    * transformers.\n",
    "    * many more."
   ]
  },
  {
   "cell_type": "markdown",
   "id": "f6f05716",
   "metadata": {},
   "source": [
    "### What are neural networks?\n"
   ]
  },
  {
   "cell_type": "markdown",
   "id": "3f04a40a",
   "metadata": {},
   "source": [
    "\n",
    "* Inputs (images/audio/random languages) -> numerical encoding (matrixes or tensors) -> learns representation (patterns/features/weights) -> representation outputs (large numerical data set or more tensors) -> human output (image of cat/\"Hey Siri...\"/language a joke or serious?)\n",
    "    * Use the appropriate neural network for your problem (C.N.N for images or transformers for languages/audio)\n",
    "* Anatomy of Neural Networks.\n",
    "    * Input layer -> hidden layer(s) -> output layer"
   ]
  },
  {
   "cell_type": "markdown",
   "id": "169ab680",
   "metadata": {},
   "source": [
    "### Types of learning.\n"
   ]
  },
  {
   "cell_type": "markdown",
   "id": "2bb7b163",
   "metadata": {},
   "source": [
    "\n",
    "* Supervised Learning.\n",
    "    * Lots of data and examples of what the inputs should be. i.e photos of cats and dogs with each labled (data and labels)\n",
    "* Unsupervised & Self-supervised Learning. \n",
    "    * Learns solely on the data given i.e only the photos of cats and dogs, finds patterns between the two but cannot necesserily differentiate\n",
    "* Transfer Learning.\n",
    "    * Learns what one model learns and tranfers it to another. i.e can learn what Supervised Learning model discovered and transfer to another, giving a \"head start\""
   ]
  },
  {
   "cell_type": "markdown",
   "id": "ff455721",
   "metadata": {},
   "source": [
    "### What is deep learning used for?\n"
   ]
  },
  {
   "cell_type": "markdown",
   "id": "89cf0817",
   "metadata": {},
   "source": [
    "\n",
    "* Youtube algorithms, google translate, speech recognition, computer vision, natural language processing (NLP)\n",
    "    * Translation and Speech Recognition == Sequence to Sequence (seq2seq) i.e sequence of letters or sequence of audio waves\n",
    "    * Computer Vision and Natural Language Processing (NLP) == Classification/Regression i.e Regression is predicting a number or predicting the coordinates of computer visions \"attnetion\" and\n",
    "    * Classification is predicting if something is one thing or another."
   ]
  },
  {
   "cell_type": "markdown",
   "id": "d2fba597",
   "metadata": {},
   "source": [
    "### What is PyTorch?\n",
    "    \n"
   ]
  },
  {
   "cell_type": "markdown",
   "id": "eadad11b",
   "metadata": {},
   "source": [
    "* Most popular research deep learning framework*\n",
    "* Write fast deep learning code in Python (able to run on a GPU(s))\n",
    "* Able to access many pre-built deep learning models (Torch Hub/torchvision.models)\n",
    "* Whole stack: preprocess data, model data, deploy model in your application/cloud\n",
    "* Originally designes and used in-house by Facebook/Meta (now open-source)"
   ]
  },
  {
   "cell_type": "markdown",
   "id": "665518ed",
   "metadata": {},
   "source": [
    "### What is a Tensor?\n"
   ]
  },
  {
   "cell_type": "markdown",
   "id": "128d859c",
   "metadata": {},
   "source": [
    "\n",
    "* https://www.youtube.com/watch?v=f5liqUk0ZTw "
   ]
  },
  {
   "cell_type": "markdown",
   "id": "0c18b792",
   "metadata": {},
   "source": [
    "### What is a Classification problem?\n"
   ]
  },
  {
   "cell_type": "markdown",
   "id": "a1f7ead2",
   "metadata": {},
   "source": [
    "* **Binary Classification** - Determining whether an email is spam or not spam. Either spam or not spam, 0 or 1.\n",
    "\n",
    "* **Multiclass Classification** - More than one thing or another. Cat, dog, or bunny.\n",
    "\n",
    "* **Multilabel Classification** - Multiple lables per sample. *Grey* *Female* *longhair* Cat, *brown* *50lbs* Dog, *white* Bunny."
   ]
  },
  {
   "cell_type": "markdown",
   "id": "9e144616",
   "metadata": {},
   "source": [
    "Classification Inputs & Outputs\n",
    "* Inputs\n",
    "    * Photos can be broken down into 3 inputs per pixel; Width, Height, & C (color channels: R, G, B)\n",
    "\n",
    "* Outputs\n",
    "    *  Cat, Dog, Bunny [[0.97, 0.00, 0.03]] w/ each value being how certain the model is as it approaches 1.0 (e.g. This model being 97% certain of Cat)"
   ]
  },
  {
   "cell_type": "markdown",
   "id": "d35e8e2f",
   "metadata": {},
   "source": [
    "Input & Output Shapes\n",
    "* Each photo input gets represented as a Tensor, `shape = [batch_size, color_channels, width, height]`, or `shape = [None, 3, 224, 224]`.\n",
    "    * batch_size - How many photos the model looks at at once. Higher batch_size, more computing power.\n",
    "    * Above Multiclass Classification input of Cat, Dog, & Bunny would result in a `Shape` output of `[3]`, while a Binary Classification would result in a `shape` of `[2]` "
   ]
  },
  {
   "cell_type": "markdown",
   "id": "03916931",
   "metadata": {},
   "source": [
    "Architecture of A Classification Model.\n",
    "* Hyperparameter - Binary Classification\n",
    "    * Input layer shape (in_features) - Same as number of featers (e.g 5 for age, sex, height, smoking status) (in numerical value, e.g. male=0 female=1)\n",
    "    * Hidden layer(s) - Problem specific, minimum = 1, maximum = unlimites.\n",
    "    * Neurons per hidden layer - problem specific, generally 10 to 512.\n",
    "    * Output layer shape (out_features) - 1 shape (one class or the other) (e.g. 3 for cat, dog, or bunny)\n",
    "    * Hidden layer activation - usually `ReLU` (Rectified Linear Unit) but can be many more.\n",
    "    * Output activation - Sigmoid (`torch.sigmoid` in PyTorch).\n",
    "    * Loss function - Binary Crossentropy (`torch.nn.BCELoss` in PyTorch).\n",
    "    *Optimizer - `.SGD` (Stochastic Gradient Descent), `.Adam`, or many more. "
   ]
  }
 ],
 "metadata": {
  "language_info": {
   "name": "python"
  }
 },
 "nbformat": 4,
 "nbformat_minor": 5
}
