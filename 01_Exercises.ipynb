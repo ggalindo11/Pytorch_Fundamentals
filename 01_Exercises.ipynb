{
 "cells": [
  {
   "cell_type": "markdown",
   "id": "667a01eb",
   "metadata": {},
   "source": [
    "# 01_PyTorch_Workflow Excercises"
   ]
  },
  {
   "cell_type": "markdown",
   "id": "002dde8d",
   "metadata": {},
   "source": [
    "## 1. Create a straight line dataset using the linear regression formula (weight * X + bias)\n",
    "\n",
    "* Set `weight = 0.3` & `bias = 0.9`, there should be at least 100 datapoints total.\n",
    "* Split the data into 80% training, 20% testing.\n",
    "* Plot the training and testing data so it becomes visual.\n"
   ]
  },
  {
   "cell_type": "code",
   "execution_count": 34,
   "id": "e95cd239",
   "metadata": {},
   "outputs": [
    {
     "data": {
      "text/plain": [
       "True"
      ]
     },
     "execution_count": 34,
     "metadata": {},
     "output_type": "execute_result"
    }
   ],
   "source": [
    "# Necessary imports and what not\n",
    "import torch\n",
    "from torch import nn\n",
    "import matplotlib.pyplot as plt\n",
    "import pathlib as Path\n",
    "\n",
    "torch.cuda.is_available()"
   ]
  },
  {
   "cell_type": "code",
   "execution_count": 2,
   "id": "be66cc9b",
   "metadata": {},
   "outputs": [
    {
     "name": "stdout",
     "output_type": "stream",
     "text": [
      "Device: cuda\n"
     ]
    }
   ],
   "source": [
    "# Create device agnostic code for GPU & CPU\n",
    "\n",
    "if torch.cuda.is_available():\n",
    "    device = torch.device('cuda')\n",
    "else:\n",
    "    device = torch.device('cpu')\n",
    "\n",
    "print(f\"Device: {device}\")"
   ]
  },
  {
   "cell_type": "code",
   "execution_count": 3,
   "id": "2f81c4d9",
   "metadata": {},
   "outputs": [
    {
     "name": "stdout",
     "output_type": "stream",
     "text": [
      "Weight: 0.3 | Bias: 0.9 | Start: 0 | Stop: 1 | Step: 0.01 | Length X: 100\n"
     ]
    }
   ],
   "source": [
    "# Create data for linear regression; y = bias + weight * X\n",
    "weight = 0.3\n",
    "bias = 0.9\n",
    "\n",
    "# Data for range\n",
    "start = 0\n",
    "stop = 1\n",
    "step = 0.01\n",
    "\n",
    "# X (data points) & y (linear regression formula)\n",
    "X =  torch.arange(start, stop, step).unsqueeze(dim=1) # Have to add a dimension or else errors\n",
    "y = bias + weight * X\n",
    "\n",
    "print(f\"Weight: {weight} | Bias: {bias} | Start: {start} | Stop: {stop} | Step: {step} | Length X: {len(X)}\")"
   ]
  },
  {
   "cell_type": "code",
   "execution_count": 4,
   "id": "310513b8",
   "metadata": {},
   "outputs": [
    {
     "data": {
      "text/plain": [
       "(80, 80, 20, 20)"
      ]
     },
     "execution_count": 4,
     "metadata": {},
     "output_type": "execute_result"
    }
   ],
   "source": [
    "# Split data 80/20 (80% training, 20% testing)\n",
    "train_split = int(0.8*len(X))\n",
    "\n",
    "X_train, y_train = X[:train_split], y[:train_split] # ALL till 80% (80% of data for training)\n",
    "\n",
    "X_test, y_test = X[train_split:], y[train_split:] # ALL after 80% (20% of remaining data for testing)\n",
    "\n",
    "len(X_train), len(y_train), len(X_test), len(y_test) # Check lengths of training and testing data"
   ]
  },
  {
   "cell_type": "code",
   "execution_count": 5,
   "id": "fa7be3f4",
   "metadata": {},
   "outputs": [],
   "source": [
    "# Create ploting function\n",
    "\n",
    "def plot_predictions(train_data = X_train, \n",
    "                     train_labels = y_train, \n",
    "                     test_data = X_test, \n",
    "                     test_labels = y_test, \n",
    "                     predictions = None):\n",
    "    # Create figure\n",
    "    plt.figure(figsize=(10, 7)) # figure(figsize=(width & height in inches))\n",
    "\n",
    "    # Create plot points for training data\n",
    "    plt.scatter(train_data, # Plot training data\n",
    "                train_labels, # Plot training labels\n",
    "                c='b',   # Color training data in blue\n",
    "                s=4,     # Size of training data points (marker size)\n",
    "                label='Training Data') # Label training data\n",
    "    \n",
    "    # Create plot points for test data\n",
    "    plt.scatter(test_data, # Plot test data\n",
    "                test_labels, # Plot test labels\n",
    "                c='g',  # Color test data in green\n",
    "                s=4,    # Size of test data points (marker size)\n",
    "                label='Testing Data') # Label test data\n",
    "    \n",
    "    # Create plot points for predictions if they exist\n",
    "    if predictions is not None:\n",
    "        # Create plot points for predictions, assuming they exist\n",
    "        plt.scatter(test_data, # Plot test data\n",
    "                    predictions, # Plot predictions\n",
    "                    c='r',  # Color predictions in red\n",
    "                    s=4,    # Size of predictions points (marker size)\n",
    "                    label='Predictions') # Label predictions\n",
    "    \n",
    "    # Create a info legend\n",
    "    plt.legend(prop={'size': 14}) # Size of legend text"
   ]
  },
  {
   "cell_type": "code",
   "execution_count": 6,
   "id": "11deeb10",
   "metadata": {},
   "outputs": [
    {
     "data": {
      "image/png": "[encoded data removed]",
      "text/plain": [
       "<Figure size 1000x700 with 1 Axes>"
      ]
     },
     "metadata": {},
     "output_type": "display_data"
    }
   ],
   "source": [
    "plot_predictions()"
   ]
  },
  {
   "cell_type": "markdown",
   "id": "6713b613",
   "metadata": {},
   "source": [
    "## 2. Build a PyTorch model by subclassing `nn.Module`.\n",
    "\n",
    "* Inside should be a randomly initialized `nn.Parameter()` with `requires_grad=True`, one for `weights` & one for `bias`.\n",
    "* Implement the `forward()` method to compute the linear regression function you used to create the dataset in 1.\n",
    "* Once you've constructed the model, make an instance of it and check its `state_dict()`."
   ]
  },
  {
   "cell_type": "code",
   "execution_count": 17,
   "id": "34055817",
   "metadata": {},
   "outputs": [
    {
     "data": {
      "text/plain": [
       "(linearRegression(),\n",
       " OrderedDict([('weight', tensor([-2.0260])), ('bias', tensor([-2.0655]))]))"
      ]
     },
     "execution_count": 17,
     "metadata": {},
     "output_type": "execute_result"
    }
   ],
   "source": [
    " # Create class inheriting from nn.Module\n",
    "class linearRegression(nn.Module):\n",
    "    # Initialize class'\n",
    "    def __init__(self):\n",
    "        super().__init__()\n",
    "        # Create random weight & bias parameters with gradient tracking = True\n",
    "        self.weight = nn.Parameter(torch.randn(1,\n",
    "                                               dtype=torch.float,\n",
    "                                               requires_grad=True))\n",
    "        self.bias = nn.Parameter(torch.randn(1,\n",
    "                                             dtype=torch.float,\n",
    "                                             requires_grad=True))\n",
    "        \n",
    "    # Create forward method bc override nn.Module's forward method\n",
    "    def forward(self, x: torch.Tensor) -> torch.Tensor: # Calls self.weight & self.bias as tensors\n",
    "        return self.weight * x + self.bias # Linear regression formula\n",
    "        \n",
    "# Creat seed for reproducibility\n",
    "torch.manual_seed(1337)\n",
    "# Create model instance\n",
    "model_E = linearRegression()\n",
    "\n",
    "model_E, model_E.state_dict()"
   ]
  },
  {
   "cell_type": "code",
   "execution_count": 20,
   "id": "a83c2ae4",
   "metadata": {},
   "outputs": [
    {
     "data": {
      "text/plain": [
       "device(type='cuda', index=0)"
      ]
     },
     "execution_count": 20,
     "metadata": {},
     "output_type": "execute_result"
    }
   ],
   "source": [
    "next(model_E.parameters()).device # Check the models current device"
   ]
  },
  {
   "cell_type": "code",
   "execution_count": 19,
   "id": "9a22c446",
   "metadata": {},
   "outputs": [
    {
     "data": {
      "text/plain": [
       "device(type='cuda', index=0)"
      ]
     },
     "execution_count": 19,
     "metadata": {},
     "output_type": "execute_result"
    }
   ],
   "source": [
    "model_E.to(device) # Put the model on the target device\n",
    "next(model_E.parameters()).device # Check the models current device"
   ]
  },
  {
   "cell_type": "markdown",
   "id": "8dd2ef2b",
   "metadata": {},
   "source": [
    "## 3. Create a loss function and optimizer using `nn.L1Loss()` & `torch.optim.SGD(params, lr)` respectively.\n",
    "\n",
    "* Set the learning rate of the optimizer to be 0.01 & the parameters to optimize should be the model parameters from the model you created in 2.\n",
    "* Write a training loop to perform the appropriate training steps for 300 epochs.\n",
    "* The training loop should test the model on the test dataset every 20 epochs.\n"
   ]
  },
  {
   "cell_type": "code",
   "execution_count": 21,
   "id": "65d3fe42",
   "metadata": {},
   "outputs": [],
   "source": [
    "# Create loss function\n",
    "loss_fn = nn.L1Loss() # Mean Absolute Error\n",
    "\n",
    "# Create optimizer w/ SGD (Stochastic Gradient Descent)\n",
    "optimizer = torch.optim.SGD(params=model_E.parameters(), # Randomly adjusts the parameters of the model to minimize the loss function\n",
    "                            lr=0.01) # Learning rate (how much to adjust the parameters by decimal point)"
   ]
  },
  {
   "cell_type": "code",
   "execution_count": 27,
   "id": "3b74c324",
   "metadata": {},
   "outputs": [
    {
     "name": "stdout",
     "output_type": "stream",
     "text": [
      "Epoch: 0 | Loss: 0.41932564973831177 | Test Loss: 0.9754301309585571\n",
      "Epoch: 20 | Loss: 0.28050318360328674 | Test Loss: 0.7633636593818665\n",
      "Epoch: 40 | Loss: 0.2194243222475052 | Test Loss: 0.6188602447509766\n",
      "Epoch: 60 | Loss: 0.1927943080663681 | Test Loss: 0.5246787071228027\n",
      "Epoch: 80 | Loss: 0.17941676080226898 | Test Loss: 0.4635174870491028\n",
      "Epoch: 100 | Loss: 0.17060212790966034 | Test Loss: 0.42266589403152466\n",
      "Epoch: 120 | Loss: 0.16318707168102264 | Test Loss: 0.3936598002910614\n",
      "Epoch: 140 | Loss: 0.1562250852584839 | Test Loss: 0.37148386240005493\n",
      "Epoch: 160 | Loss: 0.14931701123714447 | Test Loss: 0.3524034917354584\n",
      "Epoch: 180 | Loss: 0.14246587455272675 | Test Loss: 0.33607470989227295\n",
      "Epoch: 200 | Loss: 0.13561378419399261 | Test Loss: 0.3200899064540863\n",
      "Epoch: 220 | Loss: 0.12876267731189728 | Test Loss: 0.30376115441322327\n",
      "Epoch: 240 | Loss: 0.12191157788038254 | Test Loss: 0.2874324321746826\n",
      "Epoch: 260 | Loss: 0.11505948752164841 | Test Loss: 0.2714475989341736\n",
      "Epoch: 280 | Loss: 0.10820837318897247 | Test Loss: 0.25511884689331055\n",
      "Epoch: 300 | Loss: 0.10135724395513535 | Test Loss: 0.23879007995128632\n",
      "Epoch: 320 | Loss: 0.0945051833987236 | Test Loss: 0.22280526161193848\n",
      "Epoch: 340 | Loss: 0.08765407651662827 | Test Loss: 0.20647649466991425\n",
      "Epoch: 360 | Loss: 0.08080298453569412 | Test Loss: 0.19014784693717957\n",
      "Epoch: 380 | Loss: 0.07395092397928238 | Test Loss: 0.17416314780712128\n",
      "Epoch: 400 | Loss: 0.06709981709718704 | Test Loss: 0.15783445537090302\n",
      "Epoch: 420 | Loss: 0.0602487213909626 | Test Loss: 0.14150574803352356\n",
      "Epoch: 440 | Loss: 0.053396642208099365 | Test Loss: 0.1255209892988205\n",
      "Epoch: 460 | Loss: 0.04654552787542343 | Test Loss: 0.1091926097869873\n",
      "Epoch: 480 | Loss: 0.039694350212812424 | Test Loss: 0.09286515414714813\n",
      "Epoch: 500 | Loss: 0.03284219652414322 | Test Loss: 0.07688160985708237\n",
      "Epoch: 520 | Loss: 0.025990992784500122 | Test Loss: 0.060554053634405136\n",
      "Epoch: 540 | Loss: 0.019139794632792473 | Test Loss: 0.04422647878527641\n",
      "Epoch: 560 | Loss: 0.012287626042962074 | Test Loss: 0.02824285626411438\n",
      "Epoch: 580 | Loss: 0.005436430219560862 | Test Loss: 0.01191530842334032\n",
      "Epoch: 600 | Loss: 0.003902988974004984 | Test Loss: 0.005634790752083063\n",
      "Epoch: 620 | Loss: 0.003902988974004984 | Test Loss: 0.005634790752083063\n",
      "Epoch: 640 | Loss: 0.003902988974004984 | Test Loss: 0.005634790752083063\n",
      "Epoch: 660 | Loss: 0.003902988974004984 | Test Loss: 0.005634790752083063\n",
      "Epoch: 680 | Loss: 0.003902988974004984 | Test Loss: 0.005634790752083063\n",
      "Epoch: 700 | Loss: 0.003902988974004984 | Test Loss: 0.005634790752083063\n",
      "Epoch: 720 | Loss: 0.003902988974004984 | Test Loss: 0.005634790752083063\n",
      "Epoch: 740 | Loss: 0.003902988974004984 | Test Loss: 0.005634790752083063\n",
      "Epoch: 760 | Loss: 0.003902988974004984 | Test Loss: 0.005634790752083063\n",
      "Epoch: 780 | Loss: 0.003902988974004984 | Test Loss: 0.005634790752083063\n",
      "Epoch: 800 | Loss: 0.003902988974004984 | Test Loss: 0.005634790752083063\n",
      "Epoch: 820 | Loss: 0.003902988974004984 | Test Loss: 0.005634790752083063\n",
      "Epoch: 840 | Loss: 0.003902988974004984 | Test Loss: 0.005634790752083063\n",
      "Epoch: 860 | Loss: 0.003902988974004984 | Test Loss: 0.005634790752083063\n",
      "Epoch: 880 | Loss: 0.003902988974004984 | Test Loss: 0.005634790752083063\n",
      "Epoch: 900 | Loss: 0.003902988974004984 | Test Loss: 0.005634790752083063\n",
      "Epoch: 920 | Loss: 0.003902988974004984 | Test Loss: 0.005634790752083063\n",
      "Epoch: 940 | Loss: 0.003902988974004984 | Test Loss: 0.005634790752083063\n",
      "Epoch: 960 | Loss: 0.003902988974004984 | Test Loss: 0.005634790752083063\n",
      "Epoch: 980 | Loss: 0.003902988974004984 | Test Loss: 0.005634790752083063\n",
      "Epoch: 1000 | Loss: 0.003902988974004984 | Test Loss: 0.005634790752083063\n",
      "Epoch: 1020 | Loss: 0.003902988974004984 | Test Loss: 0.005634790752083063\n",
      "Epoch: 1040 | Loss: 0.003902988974004984 | Test Loss: 0.005634790752083063\n",
      "Epoch: 1060 | Loss: 0.003902988974004984 | Test Loss: 0.005634790752083063\n",
      "Epoch: 1080 | Loss: 0.003902988974004984 | Test Loss: 0.005634790752083063\n",
      "Epoch: 1100 | Loss: 0.003902988974004984 | Test Loss: 0.005634790752083063\n",
      "Epoch: 1120 | Loss: 0.003902988974004984 | Test Loss: 0.005634790752083063\n",
      "Epoch: 1140 | Loss: 0.003902988974004984 | Test Loss: 0.005634790752083063\n",
      "Epoch: 1160 | Loss: 0.003902988974004984 | Test Loss: 0.005634790752083063\n",
      "Epoch: 1180 | Loss: 0.003902988974004984 | Test Loss: 0.005634790752083063\n",
      "Epoch: 1200 | Loss: 0.003902988974004984 | Test Loss: 0.005634790752083063\n",
      "Epoch: 1220 | Loss: 0.003902988974004984 | Test Loss: 0.005634790752083063\n",
      "Epoch: 1240 | Loss: 0.003902988974004984 | Test Loss: 0.005634790752083063\n",
      "Epoch: 1260 | Loss: 0.003902988974004984 | Test Loss: 0.005634790752083063\n",
      "Epoch: 1280 | Loss: 0.003902988974004984 | Test Loss: 0.005634790752083063\n",
      "Epoch: 1300 | Loss: 0.003902988974004984 | Test Loss: 0.005634790752083063\n",
      "Epoch: 1320 | Loss: 0.003902988974004984 | Test Loss: 0.005634790752083063\n",
      "Epoch: 1340 | Loss: 0.003902988974004984 | Test Loss: 0.005634790752083063\n",
      "Epoch: 1360 | Loss: 0.003902988974004984 | Test Loss: 0.005634790752083063\n",
      "Epoch: 1380 | Loss: 0.003902988974004984 | Test Loss: 0.005634790752083063\n",
      "Epoch: 1400 | Loss: 0.003902988974004984 | Test Loss: 0.005634790752083063\n",
      "Epoch: 1420 | Loss: 0.003902988974004984 | Test Loss: 0.005634790752083063\n",
      "Epoch: 1440 | Loss: 0.003902988974004984 | Test Loss: 0.005634790752083063\n",
      "Epoch: 1460 | Loss: 0.003902988974004984 | Test Loss: 0.005634790752083063\n",
      "Epoch: 1480 | Loss: 0.003902988974004984 | Test Loss: 0.005634790752083063\n",
      "Epoch: 1500 | Loss: 0.003902988974004984 | Test Loss: 0.005634790752083063\n",
      "Epoch: 1520 | Loss: 0.003902988974004984 | Test Loss: 0.005634790752083063\n",
      "Epoch: 1540 | Loss: 0.003902988974004984 | Test Loss: 0.005634790752083063\n",
      "Epoch: 1560 | Loss: 0.003902988974004984 | Test Loss: 0.005634790752083063\n",
      "Epoch: 1580 | Loss: 0.003902988974004984 | Test Loss: 0.005634790752083063\n",
      "Epoch: 1600 | Loss: 0.003902988974004984 | Test Loss: 0.005634790752083063\n",
      "Epoch: 1620 | Loss: 0.003902988974004984 | Test Loss: 0.005634790752083063\n",
      "Epoch: 1640 | Loss: 0.003902988974004984 | Test Loss: 0.005634790752083063\n",
      "Epoch: 1660 | Loss: 0.003902988974004984 | Test Loss: 0.005634790752083063\n",
      "Epoch: 1680 | Loss: 0.003902988974004984 | Test Loss: 0.005634790752083063\n",
      "Epoch: 1700 | Loss: 0.003902988974004984 | Test Loss: 0.005634790752083063\n",
      "Epoch: 1720 | Loss: 0.003902988974004984 | Test Loss: 0.005634790752083063\n",
      "Epoch: 1740 | Loss: 0.003902988974004984 | Test Loss: 0.005634790752083063\n",
      "Epoch: 1760 | Loss: 0.003902988974004984 | Test Loss: 0.005634790752083063\n",
      "Epoch: 1780 | Loss: 0.003902988974004984 | Test Loss: 0.005634790752083063\n",
      "Epoch: 1800 | Loss: 0.003902988974004984 | Test Loss: 0.005634790752083063\n",
      "Epoch: 1820 | Loss: 0.003902988974004984 | Test Loss: 0.005634790752083063\n",
      "Epoch: 1840 | Loss: 0.003902988974004984 | Test Loss: 0.005634790752083063\n",
      "Epoch: 1860 | Loss: 0.003902988974004984 | Test Loss: 0.005634790752083063\n",
      "Epoch: 1880 | Loss: 0.003902988974004984 | Test Loss: 0.005634790752083063\n",
      "Epoch: 1900 | Loss: 0.003902988974004984 | Test Loss: 0.005634790752083063\n",
      "Epoch: 1920 | Loss: 0.003902988974004984 | Test Loss: 0.005634790752083063\n",
      "Epoch: 1940 | Loss: 0.003902988974004984 | Test Loss: 0.005634790752083063\n",
      "Epoch: 1960 | Loss: 0.003902988974004984 | Test Loss: 0.005634790752083063\n",
      "Epoch: 1980 | Loss: 0.003902988974004984 | Test Loss: 0.005634790752083063\n",
      "Epoch: 2000 | Loss: 0.003902988974004984 | Test Loss: 0.005634790752083063\n",
      "Epoch: 2020 | Loss: 0.003902988974004984 | Test Loss: 0.005634790752083063\n",
      "Epoch: 2040 | Loss: 0.003902988974004984 | Test Loss: 0.005634790752083063\n",
      "Epoch: 2060 | Loss: 0.003902988974004984 | Test Loss: 0.005634790752083063\n",
      "Epoch: 2080 | Loss: 0.003902988974004984 | Test Loss: 0.005634790752083063\n",
      "Epoch: 2100 | Loss: 0.003902988974004984 | Test Loss: 0.005634790752083063\n",
      "Epoch: 2120 | Loss: 0.003902988974004984 | Test Loss: 0.005634790752083063\n",
      "Epoch: 2140 | Loss: 0.003902988974004984 | Test Loss: 0.005634790752083063\n",
      "Epoch: 2160 | Loss: 0.003902988974004984 | Test Loss: 0.005634790752083063\n",
      "Epoch: 2180 | Loss: 0.003902988974004984 | Test Loss: 0.005634790752083063\n",
      "Epoch: 2200 | Loss: 0.003902988974004984 | Test Loss: 0.005634790752083063\n",
      "Epoch: 2220 | Loss: 0.003902988974004984 | Test Loss: 0.005634790752083063\n",
      "Epoch: 2240 | Loss: 0.003902988974004984 | Test Loss: 0.005634790752083063\n",
      "Epoch: 2260 | Loss: 0.003902988974004984 | Test Loss: 0.005634790752083063\n",
      "Epoch: 2280 | Loss: 0.003902988974004984 | Test Loss: 0.005634790752083063\n",
      "Epoch: 2300 | Loss: 0.003902988974004984 | Test Loss: 0.005634790752083063\n",
      "Epoch: 2320 | Loss: 0.003902988974004984 | Test Loss: 0.005634790752083063\n",
      "Epoch: 2340 | Loss: 0.003902988974004984 | Test Loss: 0.005634790752083063\n",
      "Epoch: 2360 | Loss: 0.003902988974004984 | Test Loss: 0.005634790752083063\n",
      "Epoch: 2380 | Loss: 0.003902988974004984 | Test Loss: 0.005634790752083063\n",
      "Epoch: 2400 | Loss: 0.003902988974004984 | Test Loss: 0.005634790752083063\n",
      "Epoch: 2420 | Loss: 0.003902988974004984 | Test Loss: 0.005634790752083063\n",
      "Epoch: 2440 | Loss: 0.003902988974004984 | Test Loss: 0.005634790752083063\n",
      "Epoch: 2460 | Loss: 0.003902988974004984 | Test Loss: 0.005634790752083063\n",
      "Epoch: 2480 | Loss: 0.003902988974004984 | Test Loss: 0.005634790752083063\n",
      "Epoch: 2500 | Loss: 0.003902988974004984 | Test Loss: 0.005634790752083063\n",
      "Epoch: 2520 | Loss: 0.003902988974004984 | Test Loss: 0.005634790752083063\n",
      "Epoch: 2540 | Loss: 0.003902988974004984 | Test Loss: 0.005634790752083063\n",
      "Epoch: 2560 | Loss: 0.003902988974004984 | Test Loss: 0.005634790752083063\n",
      "Epoch: 2580 | Loss: 0.003902988974004984 | Test Loss: 0.005634790752083063\n",
      "Epoch: 2600 | Loss: 0.003902988974004984 | Test Loss: 0.005634790752083063\n",
      "Epoch: 2620 | Loss: 0.003902988974004984 | Test Loss: 0.005634790752083063\n",
      "Epoch: 2640 | Loss: 0.003902988974004984 | Test Loss: 0.005634790752083063\n",
      "Epoch: 2660 | Loss: 0.003902988974004984 | Test Loss: 0.005634790752083063\n",
      "Epoch: 2680 | Loss: 0.003902988974004984 | Test Loss: 0.005634790752083063\n",
      "Epoch: 2700 | Loss: 0.003902988974004984 | Test Loss: 0.005634790752083063\n",
      "Epoch: 2720 | Loss: 0.003902988974004984 | Test Loss: 0.005634790752083063\n",
      "Epoch: 2740 | Loss: 0.003902988974004984 | Test Loss: 0.005634790752083063\n",
      "Epoch: 2760 | Loss: 0.003902988974004984 | Test Loss: 0.005634790752083063\n",
      "Epoch: 2780 | Loss: 0.003902988974004984 | Test Loss: 0.005634790752083063\n",
      "Epoch: 2800 | Loss: 0.003902988974004984 | Test Loss: 0.005634790752083063\n",
      "Epoch: 2820 | Loss: 0.003902988974004984 | Test Loss: 0.005634790752083063\n",
      "Epoch: 2840 | Loss: 0.003902988974004984 | Test Loss: 0.005634790752083063\n",
      "Epoch: 2860 | Loss: 0.003902988974004984 | Test Loss: 0.005634790752083063\n",
      "Epoch: 2880 | Loss: 0.003902988974004984 | Test Loss: 0.005634790752083063\n",
      "Epoch: 2900 | Loss: 0.003902988974004984 | Test Loss: 0.005634790752083063\n",
      "Epoch: 2920 | Loss: 0.003902988974004984 | Test Loss: 0.005634790752083063\n",
      "Epoch: 2940 | Loss: 0.003902988974004984 | Test Loss: 0.005634790752083063\n",
      "Epoch: 2960 | Loss: 0.003902988974004984 | Test Loss: 0.005634790752083063\n",
      "Epoch: 2980 | Loss: 0.003902988974004984 | Test Loss: 0.005634790752083063\n"
     ]
    }
   ],
   "source": [
    "# Create training hyperparameters \n",
    "epochs = 3000\n",
    "\n",
    "X_train, y_train = X_train.to(device), y_train.to(device) # Put data on the target device\n",
    "X_test, y_test = X_test.to(device), y_test.to(device)     # Put data on the target device\n",
    "\n",
    "# Training loop\n",
    "for epoch in range(epochs):\n",
    "    # 0. Train\n",
    "    model_E.train() # Sets all parameters that require gradients to true (used for training mode)\n",
    "\n",
    "    # 1. Forward pass\n",
    "    y_pred = model_E(X_train) # Make predictions on the training data\n",
    "\n",
    "    # 2. Calc the loss\n",
    "    loss = loss_fn(y_pred, y_train) # Compare the model's predictions to the ideal values (y_train)\n",
    "\n",
    "    # 3. Optimizer zero grad\n",
    "    optimizer.zero_grad() # Set the gradients of all optimized tensors to zero\n",
    "\n",
    "    # 4. Backward pass\n",
    "    loss.backward() # Calculate the gradient of the loss with respect to the model parameters\n",
    "\n",
    "    # 5. Optimizer step\n",
    "    optimizer.step() # By default how the optimizer changes will accumulate through the loop, so we need to zero them as in step #3.\n",
    "\n",
    "    # Testing loop\n",
    "    model_E.eval() # Sets all parameters that require gradients to false (used for inference mode\n",
    "\n",
    "    # 1. Forward pass\n",
    "    with torch.inference_mode(): # turns off gradient tracking & other stuff, saves memory and computations\n",
    "        test_pred = model_E(X_test) # Make predictions on the test data\n",
    "        \n",
    "        test_loss = loss_fn(test_pred, y_test) # Compare models predictions from ideal values (y_test)\n",
    "\n",
    "    # Print whats happening\n",
    "    if epoch % 20 == 0:\n",
    "        print(f\"Epoch: {epoch} | Loss: {loss} | Test Loss: {test_loss}\")"
   ]
  },
  {
   "cell_type": "code",
   "execution_count": 28,
   "id": "73b5008e",
   "metadata": {},
   "outputs": [
    {
     "data": {
      "text/plain": [
       "OrderedDict([('weight', tensor([0.2920], device='cuda:0')),\n",
       "             ('bias', tensor([0.8993], device='cuda:0'))])"
      ]
     },
     "execution_count": 28,
     "metadata": {},
     "output_type": "execute_result"
    }
   ],
   "source": [
    "model_E.state_dict()"
   ]
  },
  {
   "cell_type": "code",
   "execution_count": 23,
   "id": "691f00f4",
   "metadata": {},
   "outputs": [
    {
     "data": {
      "text/plain": [
       "(0.3, 0.9)"
      ]
     },
     "execution_count": 23,
     "metadata": {},
     "output_type": "execute_result"
    }
   ],
   "source": [
    "weight, bias"
   ]
  },
  {
   "cell_type": "markdown",
   "id": "47c47a6c",
   "metadata": {},
   "source": [
    "## 4. Make predictions with the trained model on the test data.\n",
    "\n",
    "* Visualize these predictions against the original training & testing data (**note**: you may need to make sure the predictions are not on the GPU if you want to use non-CUDA-enabled libraries such as matplotlib to plot)."
   ]
  },
  {
   "cell_type": "code",
   "execution_count": null,
   "id": "8b3a9428",
   "metadata": {},
   "outputs": [
    {
     "data": {
      "image/png": "[encoded data removed]",
      "text/plain": [
       "<Figure size 1000x700 with 1 Axes>"
      ]
     },
     "metadata": {},
     "output_type": "display_data"
    }
   ],
   "source": [
    "'''\n",
    "Plot the training & test data\n",
    "'''\n",
    "X_train, y_train = X_train.to(device), y_train.to(device) # Put data on the target device\n",
    "X_test, y_test = X_test.to(device), y_test.to(device)     # Put data on the target device\n",
    "\n",
    "with torch.inference_mode():\n",
    "    y_preds = model_E(X_test)\n",
    "\n",
    "plot_predictions(predictions=y_preds.cpu()) # Plot the training & test data"
   ]
  },
  {
   "cell_type": "code",
   "execution_count": null,
   "id": "39997838",
   "metadata": {},
   "outputs": [
    {
     "data": {
      "text/plain": [
       "tensor([[1.1329],\n",
       "        [1.1358],\n",
       "        [1.1387],\n",
       "        [1.1416],\n",
       "        [1.1445],\n",
       "        [1.1475],\n",
       "        [1.1504],\n",
       "        [1.1533],\n",
       "        [1.1562],\n",
       "        [1.1591],\n",
       "        [1.1621],\n",
       "        [1.1650],\n",
       "        [1.1679],\n",
       "        [1.1708],\n",
       "        [1.1737],\n",
       "        [1.1767],\n",
       "        [1.1796],\n",
       "        [1.1825],\n",
       "        [1.1854],\n",
       "        [1.1883]], device='cuda:0')"
      ]
     },
     "execution_count": 30,
     "metadata": {},
     "output_type": "execute_result"
    }
   ],
   "source": [
    "# Put model in eval mode to plot\n",
    "model_E.eval()\n",
    "\n",
    "with torch.inference_mode():\n",
    "    y_preds_new = model_E(X_test) # Make predictions on the test data\n",
    "\n",
    "y_preds_new "
   ]
  },
  {
   "cell_type": "code",
   "execution_count": 32,
   "id": "0fc1278b",
   "metadata": {},
   "outputs": [
    {
     "data": {
      "image/png": "[encoded data removed]",
      "text/plain": [
       "<Figure size 1000x700 with 1 Axes>"
      ]
     },
     "metadata": {},
     "output_type": "display_data"
    }
   ],
   "source": [
    "plot_predictions(predictions=y_preds_new.cpu()) # Plot the predictions on the test data"
   ]
  },
  {
   "cell_type": "markdown",
   "id": "ce46259a",
   "metadata": {},
   "source": [
    "## 5. Save your trained model's `state_dict()` to file.\n",
    "\n",
    "* Create a new instance of your model class you made in 2. & load in the `state_dict()` you just saved to it.\n",
    "* Perform predictions on your test data with the loaded model & confirm they match the original model predictions from 4.\n"
   ]
  },
  {
   "cell_type": "code",
   "execution_count": 41,
   "id": "c17e4103",
   "metadata": {},
   "outputs": [],
   "source": [
    "from pathlib import Path\n",
    "# Create model path/directory\n",
    "MODEL_PATH = Path(\"models\") # Create a \"models\" file in the current directory\n",
    "MODEL_PATH.mkdir(parents=True, exist_ok=True) # Makes directory (mkdir) if it doesn't exist, `exist_ok=True` means it won't raise an error if the directory already exists\n",
    "\n",
    "# Create model save path\n",
    "MODEL_NAME =\"01_model_E.pth\" # Name of the model file\n",
    "MODEL_SAVE_PATH = MODEL_PATH / MODEL_NAME # Save path for the model file\n",
    "#MODEL_SAVE_PATH # Creates model save path, only run once\n",
    "\n",
    "# Save model\n",
    "torch.save(obj=model_E.state_dict(), \n",
    "           f=MODEL_SAVE_PATH) # Save the model state dict to the model save path"
   ]
  },
  {
   "cell_type": "code",
   "execution_count": 42,
   "id": "ccc36f60",
   "metadata": {},
   "outputs": [
    {
     "data": {
      "text/plain": [
       "(linearRegression(),\n",
       " OrderedDict([('weight', tensor([0.2920])), ('bias', tensor([0.8993]))]))"
      ]
     },
     "execution_count": 42,
     "metadata": {},
     "output_type": "execute_result"
    }
   ],
   "source": [
    "loaded_model_E = linearRegression() # Create model instance\n",
    "loaded_model_E.load_state_dict(torch.load(MODEL_SAVE_PATH)) # Load the model state dict from the model save path\n",
    "\n",
    "loaded_model_E, loaded_model_E.state_dict()"
   ]
  },
  {
   "cell_type": "code",
   "execution_count": 50,
   "id": "7727b63e",
   "metadata": {},
   "outputs": [
    {
     "data": {
      "text/plain": [
       "device(type='cuda', index=0)"
      ]
     },
     "execution_count": 50,
     "metadata": {},
     "output_type": "execute_result"
    }
   ],
   "source": [
    "loaded_model_E.to(device)\n",
    "\n",
    "next(loaded_model_E.parameters()).device"
   ]
  },
  {
   "cell_type": "code",
   "execution_count": 53,
   "id": "9c7fb5e8",
   "metadata": {},
   "outputs": [],
   "source": [
    "loaded_model_E.eval()\n",
    "with torch.inference_mode():\n",
    "    loaded_model_E_preds = loaded_model_E(X_test)\n",
    "\n",
    "\n"
   ]
  },
  {
   "cell_type": "code",
   "execution_count": 55,
   "id": "b2547fb8",
   "metadata": {},
   "outputs": [
    {
     "data": {
      "text/plain": [
       "tensor([[True],\n",
       "        [True],\n",
       "        [True],\n",
       "        [True],\n",
       "        [True],\n",
       "        [True],\n",
       "        [True],\n",
       "        [True],\n",
       "        [True],\n",
       "        [True],\n",
       "        [True],\n",
       "        [True],\n",
       "        [True],\n",
       "        [True],\n",
       "        [True],\n",
       "        [True],\n",
       "        [True],\n",
       "        [True],\n",
       "        [True],\n",
       "        [True]], device='cuda:0')"
      ]
     },
     "execution_count": 55,
     "metadata": {},
     "output_type": "execute_result"
    }
   ],
   "source": [
    "loaded_model_E_preds == y_preds_new"
   ]
  },
  {
   "cell_type": "code",
   "execution_count": 57,
   "id": "acec90b4",
   "metadata": {},
   "outputs": [
    {
     "data": {
      "image/png": "[encoded data removed]",
      "text/plain": [
       "<Figure size 1000x700 with 1 Axes>"
      ]
     },
     "metadata": {},
     "output_type": "display_data"
    }
   ],
   "source": [
    "plot_predictions(predictions=loaded_model_E_preds.cpu())"
   ]
  }
 ],
 "metadata": {
  "kernelspec": {
   "display_name": ".venv",
   "language": "python",
   "name": "python3"
  },
  "language_info": {
   "codemirror_mode": {
    "name": "ipython",
    "version": 3
   },
   "file_extension": ".py",
   "mimetype": "text/x-python",
   "name": "python",
   "nbconvert_exporter": "python",
   "pygments_lexer": "ipython3",
   "version": "3.12.0"
  }
 },
 "nbformat": 4,
 "nbformat_minor": 5
}
